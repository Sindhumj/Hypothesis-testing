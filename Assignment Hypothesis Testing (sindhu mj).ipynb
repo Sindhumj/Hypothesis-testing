{
 "cells": [
  {
   "cell_type": "code",
   "execution_count": 103,
   "id": "832b039a",
   "metadata": {},
   "outputs": [],
   "source": [
    "import pandas as pd\n",
    "import numpy as np\n",
    "from scipy import stats\n",
    "import matplotlib.pyplot as plt\n",
    "import seaborn as sns\n",
    "import warnings\n",
    "warnings.filterwarnings('ignore')"
   ]
  },
  {
   "attachments": {},
   "cell_type": "markdown",
   "id": "cf567810",
   "metadata": {},
   "source": [
    "# Qn-1 Problem \n",
    "A F&B manager wants to determine whether there is any significant difference in the diameter of the cutlet between two units.A randomly selected sample of cutlets was collected from both units and measured? Analyze the data and draw inferences at 5% significance level.Please state the assumptions and tests that you carried out to check validity of the assumptions."
   ]
  },
  {
   "cell_type": "code",
   "execution_count": 104,
   "id": "9cbb51f4",
   "metadata": {},
   "outputs": [
    {
     "data": {
      "text/html": [
       "<div>\n",
       "<style scoped>\n",
       "    .dataframe tbody tr th:only-of-type {\n",
       "        vertical-align: middle;\n",
       "    }\n",
       "\n",
       "    .dataframe tbody tr th {\n",
       "        vertical-align: top;\n",
       "    }\n",
       "\n",
       "    .dataframe thead th {\n",
       "        text-align: right;\n",
       "    }\n",
       "</style>\n",
       "<table border=\"1\" class=\"dataframe\">\n",
       "  <thead>\n",
       "    <tr style=\"text-align: right;\">\n",
       "      <th></th>\n",
       "      <th>Unit A</th>\n",
       "      <th>Unit B</th>\n",
       "    </tr>\n",
       "  </thead>\n",
       "  <tbody>\n",
       "    <tr>\n",
       "      <th>0</th>\n",
       "      <td>6.8090</td>\n",
       "      <td>6.7703</td>\n",
       "    </tr>\n",
       "    <tr>\n",
       "      <th>1</th>\n",
       "      <td>6.4376</td>\n",
       "      <td>7.5093</td>\n",
       "    </tr>\n",
       "    <tr>\n",
       "      <th>2</th>\n",
       "      <td>6.9157</td>\n",
       "      <td>6.7300</td>\n",
       "    </tr>\n",
       "    <tr>\n",
       "      <th>3</th>\n",
       "      <td>7.3012</td>\n",
       "      <td>6.7878</td>\n",
       "    </tr>\n",
       "    <tr>\n",
       "      <th>4</th>\n",
       "      <td>7.4488</td>\n",
       "      <td>7.1522</td>\n",
       "    </tr>\n",
       "  </tbody>\n",
       "</table>\n",
       "</div>"
      ],
      "text/plain": [
       "   Unit A  Unit B\n",
       "0  6.8090  6.7703\n",
       "1  6.4376  7.5093\n",
       "2  6.9157  6.7300\n",
       "3  7.3012  6.7878\n",
       "4  7.4488  7.1522"
      ]
     },
     "execution_count": 104,
     "metadata": {},
     "output_type": "execute_result"
    }
   ],
   "source": [
    "#Import the dataset\n",
    "df=pd.read_csv('Cutlets.csv')\n",
    "df.head()"
   ]
  },
  {
   "cell_type": "code",
   "execution_count": 105,
   "id": "c62a5043",
   "metadata": {},
   "outputs": [],
   "source": [
    "# formulate the null hypothesis and alternate hypothesis:\n",
    "#null hypothesis, Ho=diameter of cutlet of Unit A=diameter of cutlet of Unit B\n",
    "#Alternate Hypothesis, Ha=diameter of cutlet of Unit A !=diameter of cutlet of Unit B"
   ]
  },
  {
   "cell_type": "code",
   "execution_count": null,
   "id": "64490b6b",
   "metadata": {},
   "outputs": [],
   "source": []
  },
  {
   "cell_type": "code",
   "execution_count": 106,
   "id": "c8cff79f",
   "metadata": {},
   "outputs": [],
   "source": [
    "#Two samples are given and Population std deviation is not given so, its a Two sample two tailed t Test."
   ]
  },
  {
   "cell_type": "code",
   "execution_count": 107,
   "id": "9744958c",
   "metadata": {},
   "outputs": [
    {
     "data": {
      "text/plain": [
       "0    6.8090\n",
       "1    6.4376\n",
       "2    6.9157\n",
       "3    7.3012\n",
       "4    7.4488\n",
       "Name: Unit A, dtype: float64"
      ]
     },
     "execution_count": 107,
     "metadata": {},
     "output_type": "execute_result"
    }
   ],
   "source": [
    "UnitA=pd.Series(df.iloc[:,0])\n",
    "UnitA.head()"
   ]
  },
  {
   "cell_type": "code",
   "execution_count": 108,
   "id": "ce829c06",
   "metadata": {},
   "outputs": [
    {
     "data": {
      "text/plain": [
       "0    6.7703\n",
       "1    7.5093\n",
       "2    6.7300\n",
       "3    6.7878\n",
       "4    7.1522\n",
       "Name: Unit B, dtype: float64"
      ]
     },
     "execution_count": 108,
     "metadata": {},
     "output_type": "execute_result"
    }
   ],
   "source": [
    "UnitB=pd.Series(df.iloc[:,1])\n",
    "UnitB.head()"
   ]
  },
  {
   "cell_type": "code",
   "execution_count": 109,
   "id": "d5571e75",
   "metadata": {},
   "outputs": [
    {
     "data": {
      "text/plain": [
       "Ttest_indResult(statistic=0.7228688704678063, pvalue=0.4722394724599501)"
      ]
     },
     "execution_count": 109,
     "metadata": {},
     "output_type": "execute_result"
    }
   ],
   "source": [
    "#Calculate P Value:\n",
    "stats.ttest_ind(UnitA,UnitB)"
   ]
  },
  {
   "cell_type": "code",
   "execution_count": 110,
   "id": "0c797957",
   "metadata": {},
   "outputs": [],
   "source": [
    "pvalue=0.4722394724599501"
   ]
  },
  {
   "cell_type": "code",
   "execution_count": 111,
   "id": "b61030d0",
   "metadata": {},
   "outputs": [
    {
     "name": "stdout",
     "output_type": "stream",
     "text": [
      "Fail to reject the null hypothesis,& so diameter of cutlet of Unit A is equal to diameter of cutlet of Unit B.\n"
     ]
    }
   ],
   "source": [
    "if pvalue<=0.05:\n",
    "    print('Reject the null hypothesis & so diameter of cutlet of Unit A is not equal to diameter of cutlet of Unit B.')\n",
    "else:\n",
    "    print('Fail to reject the null hypothesis,& so diameter of cutlet of Unit A is equal to diameter of cutlet of Unit B.')"
   ]
  },
  {
   "attachments": {},
   "cell_type": "markdown",
   "id": "58ab0052",
   "metadata": {},
   "source": [
    "# Qn-2 Problem \n",
    "A hospital wants to determine whether there is any difference in the average Turn Around Time (TAT) of reports of the laboratories on their preferred list. They collected a random sample and recorded TAT for reports of 4 laboratories. TAT is defined as sample collected to report dispatch.\n",
    "   \n",
    "  Analyze the data and determine whether there is any difference in average TAT among the different laboratories at 5% significance level.\n"
   ]
  },
  {
   "cell_type": "code",
   "execution_count": 112,
   "id": "025c7892",
   "metadata": {},
   "outputs": [
    {
     "data": {
      "text/html": [
       "<div>\n",
       "<style scoped>\n",
       "    .dataframe tbody tr th:only-of-type {\n",
       "        vertical-align: middle;\n",
       "    }\n",
       "\n",
       "    .dataframe tbody tr th {\n",
       "        vertical-align: top;\n",
       "    }\n",
       "\n",
       "    .dataframe thead th {\n",
       "        text-align: right;\n",
       "    }\n",
       "</style>\n",
       "<table border=\"1\" class=\"dataframe\">\n",
       "  <thead>\n",
       "    <tr style=\"text-align: right;\">\n",
       "      <th></th>\n",
       "      <th>Laboratory 1</th>\n",
       "      <th>Laboratory 2</th>\n",
       "      <th>Laboratory 3</th>\n",
       "      <th>Laboratory 4</th>\n",
       "    </tr>\n",
       "  </thead>\n",
       "  <tbody>\n",
       "    <tr>\n",
       "      <th>0</th>\n",
       "      <td>185.35</td>\n",
       "      <td>165.53</td>\n",
       "      <td>176.70</td>\n",
       "      <td>166.13</td>\n",
       "    </tr>\n",
       "    <tr>\n",
       "      <th>1</th>\n",
       "      <td>170.49</td>\n",
       "      <td>185.91</td>\n",
       "      <td>198.45</td>\n",
       "      <td>160.79</td>\n",
       "    </tr>\n",
       "    <tr>\n",
       "      <th>2</th>\n",
       "      <td>192.77</td>\n",
       "      <td>194.92</td>\n",
       "      <td>201.23</td>\n",
       "      <td>185.18</td>\n",
       "    </tr>\n",
       "    <tr>\n",
       "      <th>3</th>\n",
       "      <td>177.33</td>\n",
       "      <td>183.00</td>\n",
       "      <td>199.61</td>\n",
       "      <td>176.42</td>\n",
       "    </tr>\n",
       "    <tr>\n",
       "      <th>4</th>\n",
       "      <td>193.41</td>\n",
       "      <td>169.57</td>\n",
       "      <td>204.63</td>\n",
       "      <td>152.60</td>\n",
       "    </tr>\n",
       "  </tbody>\n",
       "</table>\n",
       "</div>"
      ],
      "text/plain": [
       "   Laboratory 1  Laboratory 2  Laboratory 3  Laboratory 4\n",
       "0        185.35        165.53        176.70        166.13\n",
       "1        170.49        185.91        198.45        160.79\n",
       "2        192.77        194.92        201.23        185.18\n",
       "3        177.33        183.00        199.61        176.42\n",
       "4        193.41        169.57        204.63        152.60"
      ]
     },
     "execution_count": 112,
     "metadata": {},
     "output_type": "execute_result"
    }
   ],
   "source": [
    "LabTAT=pd.read_csv('labTAT.csv')\n",
    "LabTAT.head()"
   ]
  },
  {
   "cell_type": "code",
   "execution_count": 113,
   "id": "aa3f9c53",
   "metadata": {},
   "outputs": [],
   "source": [
    "#More than two population are given so here we will perform the Annova Test on this 4 independent sample with numerical data."
   ]
  },
  {
   "cell_type": "code",
   "execution_count": 114,
   "id": "69aebccd",
   "metadata": {},
   "outputs": [],
   "source": [
    "# Step 1=formulate the null hypothesis and alternate hypothesis:\n",
    "#null hypothesis, Ho= Avg TAT of report of Lab1= Avg TAT of report of Lab2= Avg TAT of report of Lab3= Avg TAT of report of Lab4\n",
    "#Alternate Hypothesis, Ha= Atleast one Population sample Average(mean) is different."
   ]
  },
  {
   "cell_type": "code",
   "execution_count": 115,
   "id": "9c943ac7",
   "metadata": {},
   "outputs": [
    {
     "data": {
      "text/html": [
       "<div>\n",
       "<style scoped>\n",
       "    .dataframe tbody tr th:only-of-type {\n",
       "        vertical-align: middle;\n",
       "    }\n",
       "\n",
       "    .dataframe tbody tr th {\n",
       "        vertical-align: top;\n",
       "    }\n",
       "\n",
       "    .dataframe thead th {\n",
       "        text-align: right;\n",
       "    }\n",
       "</style>\n",
       "<table border=\"1\" class=\"dataframe\">\n",
       "  <thead>\n",
       "    <tr style=\"text-align: right;\">\n",
       "      <th></th>\n",
       "      <th>Laboratory 1</th>\n",
       "      <th>Laboratory 2</th>\n",
       "      <th>Laboratory 3</th>\n",
       "      <th>Laboratory 4</th>\n",
       "    </tr>\n",
       "  </thead>\n",
       "  <tbody>\n",
       "    <tr>\n",
       "      <th>count</th>\n",
       "      <td>120.000000</td>\n",
       "      <td>120.000000</td>\n",
       "      <td>120.000000</td>\n",
       "      <td>120.00000</td>\n",
       "    </tr>\n",
       "    <tr>\n",
       "      <th>mean</th>\n",
       "      <td>178.361583</td>\n",
       "      <td>178.902917</td>\n",
       "      <td>199.913250</td>\n",
       "      <td>163.68275</td>\n",
       "    </tr>\n",
       "    <tr>\n",
       "      <th>std</th>\n",
       "      <td>13.173594</td>\n",
       "      <td>14.957114</td>\n",
       "      <td>16.539033</td>\n",
       "      <td>15.08508</td>\n",
       "    </tr>\n",
       "    <tr>\n",
       "      <th>min</th>\n",
       "      <td>138.300000</td>\n",
       "      <td>140.550000</td>\n",
       "      <td>159.690000</td>\n",
       "      <td>124.06000</td>\n",
       "    </tr>\n",
       "    <tr>\n",
       "      <th>25%</th>\n",
       "      <td>170.335000</td>\n",
       "      <td>168.025000</td>\n",
       "      <td>188.232500</td>\n",
       "      <td>154.05000</td>\n",
       "    </tr>\n",
       "    <tr>\n",
       "      <th>50%</th>\n",
       "      <td>178.530000</td>\n",
       "      <td>178.870000</td>\n",
       "      <td>199.805000</td>\n",
       "      <td>164.42500</td>\n",
       "    </tr>\n",
       "    <tr>\n",
       "      <th>75%</th>\n",
       "      <td>186.535000</td>\n",
       "      <td>189.112500</td>\n",
       "      <td>211.332500</td>\n",
       "      <td>172.88250</td>\n",
       "    </tr>\n",
       "    <tr>\n",
       "      <th>max</th>\n",
       "      <td>216.390000</td>\n",
       "      <td>217.860000</td>\n",
       "      <td>238.700000</td>\n",
       "      <td>205.18000</td>\n",
       "    </tr>\n",
       "  </tbody>\n",
       "</table>\n",
       "</div>"
      ],
      "text/plain": [
       "       Laboratory 1  Laboratory 2  Laboratory 3  Laboratory 4\n",
       "count    120.000000    120.000000    120.000000     120.00000\n",
       "mean     178.361583    178.902917    199.913250     163.68275\n",
       "std       13.173594     14.957114     16.539033      15.08508\n",
       "min      138.300000    140.550000    159.690000     124.06000\n",
       "25%      170.335000    168.025000    188.232500     154.05000\n",
       "50%      178.530000    178.870000    199.805000     164.42500\n",
       "75%      186.535000    189.112500    211.332500     172.88250\n",
       "max      216.390000    217.860000    238.700000     205.18000"
      ]
     },
     "execution_count": 115,
     "metadata": {},
     "output_type": "execute_result"
    }
   ],
   "source": [
    "#Descriptive Statistics\n",
    "LabTAT.describe()"
   ]
  },
  {
   "cell_type": "code",
   "execution_count": 116,
   "id": "3c653d2c",
   "metadata": {},
   "outputs": [
    {
     "data": {
      "text/plain": [
       "Laboratory 1    0\n",
       "Laboratory 2    0\n",
       "Laboratory 3    0\n",
       "Laboratory 4    0\n",
       "dtype: int64"
      ]
     },
     "execution_count": 116,
     "metadata": {},
     "output_type": "execute_result"
    }
   ],
   "source": [
    "#Check the Null Value\n",
    "LabTAT.isnull().sum()"
   ]
  },
  {
   "cell_type": "code",
   "execution_count": 117,
   "id": "f9dee46b",
   "metadata": {},
   "outputs": [
    {
     "data": {
      "image/png": "[encoded data removed]",
      "text/plain": [
       "<Figure size 1600x900 with 4 Axes>"
      ]
     },
     "metadata": {},
     "output_type": "display_data"
    }
   ],
   "source": [
    "plt.subplots(figsize=(16,9))\n",
    "plt.subplot(221)\n",
    "plt.boxplot(LabTAT['Laboratory 1'])\n",
    "plt.title('Laboratory 1')\n",
    "\n",
    "plt.subplot(222)\n",
    "plt.boxplot(LabTAT['Laboratory 2'])\n",
    "plt.title('Laboratory 2')\n",
    "\n",
    "plt.subplot(223)\n",
    "plt.boxplot(LabTAT['Laboratory 3'])\n",
    "plt.title('Laboratory 3')\n",
    "\n",
    "plt.subplot(224)\n",
    "plt.boxplot(LabTAT['Laboratory 4'])\n",
    "plt.title('Laboratory 4')\n",
    "plt.show()"
   ]
  },
  {
   "cell_type": "code",
   "execution_count": 118,
   "id": "c7eba22a",
   "metadata": {},
   "outputs": [
    {
     "data": {
      "image/png": "[encoded data removed]",
      "text/plain": [
       "<Figure size 1000x900 with 4 Axes>"
      ]
     },
     "metadata": {},
     "output_type": "display_data"
    }
   ],
   "source": [
    "plt.subplots(figsize=(10,9))\n",
    "plt.subplot(221)\n",
    "plt.hist(LabTAT['Laboratory 1'])\n",
    "plt.title('Laboratory 1')\n",
    "\n",
    "plt.subplot(222)\n",
    "plt.hist(LabTAT['Laboratory 2'])\n",
    "plt.title('Laboratory 2')\n",
    "\n",
    "plt.subplot(223)\n",
    "plt.hist(LabTAT['Laboratory 3'])\n",
    "plt.title('Laboratory 3')\n",
    "\n",
    "plt.subplot(224)\n",
    "plt.hist(LabTAT['Laboratory 4'])\n",
    "plt.title('Laboratory 4')\n",
    "plt.show()"
   ]
  },
  {
   "cell_type": "code",
   "execution_count": 119,
   "id": "505eea4f",
   "metadata": {},
   "outputs": [
    {
     "data": {
      "text/plain": [
       "<matplotlib.legend.Legend at 0x1a83d58a700>"
      ]
     },
     "execution_count": 119,
     "metadata": {},
     "output_type": "execute_result"
    },
    {
     "data": {
      "image/png": "[encoded data removed]",
      "text/plain": [
       "<Figure size 800x600 with 1 Axes>"
      ]
     },
     "metadata": {},
     "output_type": "display_data"
    }
   ],
   "source": [
    "plt.figure(figsize=(8,6), edgecolor='Red')\n",
    "labels=['Lab 1', 'Lab 2', 'Lab 3', 'Lab 4']\n",
    "sns.distplot(LabTAT['Laboratory 1'],kde=True)\n",
    "sns.distplot(LabTAT['Laboratory 2'],kde=True)\n",
    "sns.distplot(LabTAT['Laboratory 3'],kde=True)\n",
    "sns.distplot(LabTAT['Laboratory 4'],kde=True)\n",
    "plt.legend(labels)"
   ]
  },
  {
   "cell_type": "code",
   "execution_count": 120,
   "id": "0a08e2ba",
   "metadata": {},
   "outputs": [
    {
     "data": {
      "text/plain": [
       "F_onewayResult(statistic=118.70421654401437, pvalue=2.1156708949992414e-57)"
      ]
     },
     "execution_count": 120,
     "metadata": {},
     "output_type": "execute_result"
    }
   ],
   "source": [
    "#Calculate P Value:\n",
    "stats.f_oneway(LabTAT['Laboratory 1'],LabTAT['Laboratory 2'],LabTAT['Laboratory 3'],LabTAT['Laboratory 4'])"
   ]
  },
  {
   "cell_type": "code",
   "execution_count": 121,
   "id": "f0f3fe67",
   "metadata": {},
   "outputs": [],
   "source": [
    "pvalue=2.1156708949992414e-57"
   ]
  },
  {
   "cell_type": "code",
   "execution_count": 122,
   "id": "8892384c",
   "metadata": {},
   "outputs": [
    {
     "name": "stdout",
     "output_type": "stream",
     "text": [
      "Reject the null hypothesis & so Atleast one Population sample Average(mean) is different.(there is any difference in the average Turn Around Time (TAT) of reports of the laboratories on their preferred list)\n"
     ]
    }
   ],
   "source": [
    "if pvalue<=0.05:\n",
    "    print('Reject the null hypothesis & so Atleast one Population sample Average(mean) is different.(there is any difference in the average Turn Around Time (TAT) of reports of the laboratories on their preferred list)')\n",
    "else:\n",
    "    print('Fail to reject the null hypothesis,& so All population sample average is equal')"
   ]
  },
  {
   "attachments": {},
   "cell_type": "markdown",
   "id": "e5a28ee5",
   "metadata": {},
   "source": [
    "## Conclusion:Reject the null hypothesis & so Atleast one Population sample Average(mean) is different.(there is a difference in the average Turn Around Time of reports of the laboratories on their preferred list)"
   ]
  },
  {
   "attachments": {},
   "cell_type": "markdown",
   "id": "f6f8e979",
   "metadata": {},
   "source": [
    "# Qn-3 Probelm \n",
    "Sales of products in four different regions is tabulated for males and females. Find if male-female buyer rations are similar across regions."
   ]
  },
  {
   "cell_type": "code",
   "execution_count": 123,
   "id": "3c04d0c3",
   "metadata": {},
   "outputs": [],
   "source": [
    "#Formulate the null and alternative hypothesis:\n",
    "#Ho= Male-Female buyer rations are similar across the region.i.e. there is no dependency of regions on male female rations.\n",
    "#Ha= Male-Female buyer rations are not similar across the region.i.e. there is dependency of regions on male female rations."
   ]
  },
  {
   "cell_type": "code",
   "execution_count": 124,
   "id": "633b72ad",
   "metadata": {},
   "outputs": [],
   "source": [
    "#import the necessory library\n",
    "from scipy.stats import chi2_contingency"
   ]
  },
  {
   "cell_type": "code",
   "execution_count": 125,
   "id": "fa3d2169",
   "metadata": {},
   "outputs": [],
   "source": [
    "East=[50,550]\n",
    "West=[142,351]\n",
    "North=[131,480]\n",
    "South=[70,350]"
   ]
  },
  {
   "cell_type": "code",
   "execution_count": 126,
   "id": "53807e7f",
   "metadata": {},
   "outputs": [
    {
     "data": {
      "text/html": [
       "<div>\n",
       "<style scoped>\n",
       "    .dataframe tbody tr th:only-of-type {\n",
       "        vertical-align: middle;\n",
       "    }\n",
       "\n",
       "    .dataframe tbody tr th {\n",
       "        vertical-align: top;\n",
       "    }\n",
       "\n",
       "    .dataframe thead th {\n",
       "        text-align: right;\n",
       "    }\n",
       "</style>\n",
       "<table border=\"1\" class=\"dataframe\">\n",
       "  <thead>\n",
       "    <tr style=\"text-align: right;\">\n",
       "      <th></th>\n",
       "      <th>East</th>\n",
       "      <th>West</th>\n",
       "      <th>North</th>\n",
       "      <th>South</th>\n",
       "    </tr>\n",
       "  </thead>\n",
       "  <tbody>\n",
       "    <tr>\n",
       "      <th>Males</th>\n",
       "      <td>50</td>\n",
       "      <td>142</td>\n",
       "      <td>131</td>\n",
       "      <td>70</td>\n",
       "    </tr>\n",
       "    <tr>\n",
       "      <th>Females</th>\n",
       "      <td>550</td>\n",
       "      <td>351</td>\n",
       "      <td>480</td>\n",
       "      <td>350</td>\n",
       "    </tr>\n",
       "  </tbody>\n",
       "</table>\n",
       "</div>"
      ],
      "text/plain": [
       "         East  West  North  South\n",
       "Males      50   142    131     70\n",
       "Females   550   351    480    350"
      ]
     },
     "execution_count": 126,
     "metadata": {},
     "output_type": "execute_result"
    }
   ],
   "source": [
    "#Create a data frame:\n",
    "Buyer_Ratio=pd.DataFrame({'East':East,'West':West,'North':North,'South':South},\n",
    "                      index=['Males','Females'])\n",
    "Buyer_Ratio"
   ]
  },
  {
   "cell_type": "code",
   "execution_count": 127,
   "id": "6b896af8",
   "metadata": {},
   "outputs": [
    {
     "data": {
      "text/plain": [
       "(80.27295426602495,\n",
       " 2.682172557281901e-17,\n",
       " 3,\n",
       " array([[111.01694915,  91.21892655, 113.05225989,  77.71186441],\n",
       "        [488.98305085, 401.78107345, 497.94774011, 342.28813559]]))"
      ]
     },
     "execution_count": 127,
     "metadata": {},
     "output_type": "execute_result"
    }
   ],
   "source": [
    "#Perform the chi square test to calculate the statistic value, Pvalue, degree of freedom and expected values:\n",
    "stats,p,dof,exp_value=chi2_contingency(Buyer_Ratio)\n",
    "stats,p,dof,exp_value"
   ]
  },
  {
   "cell_type": "code",
   "execution_count": 128,
   "id": "21af3359",
   "metadata": {},
   "outputs": [
    {
     "name": "stdout",
     "output_type": "stream",
     "text": [
      "Observed_Values= [ 50 142 131  70 550 351 480 350] \n",
      " Expected_Values= [111.02  91.22 113.05  77.71 488.98 401.78 497.95 342.29]\n"
     ]
    }
   ],
   "source": [
    "#Print array of Observed Values & Expected Values:\n",
    "Observed_Values=np.array([50,142,131,70,550,351,480,350])\n",
    "Expected_Values=np.array([111.02,  91.22, 113.05,  77.71,488.98, 401.78, 497.95, 342.29])\n",
    "print('Observed_Values=',Observed_Values,\"\\n\",'Expected_Values=',Expected_Values)"
   ]
  },
  {
   "cell_type": "code",
   "execution_count": 129,
   "id": "e331e702",
   "metadata": {},
   "outputs": [],
   "source": [
    "from scipy.stats import chisquare"
   ]
  },
  {
   "cell_type": "code",
   "execution_count": 130,
   "id": "0b6aec22",
   "metadata": {},
   "outputs": [
    {
     "name": "stdout",
     "output_type": "stream",
     "text": [
      "statistic= 80.27491116117751 \n",
      " pvalue= 1.5232176033445667e-16\n"
     ]
    }
   ],
   "source": [
    "statistic,pvalue=chisquare(Observed_Values,Expected_Values,ddof=3)\n",
    "print('statistic=',statistic,\"\\n\",'pvalue=',pvalue)"
   ]
  },
  {
   "cell_type": "code",
   "execution_count": 131,
   "id": "b6c9b7bc",
   "metadata": {},
   "outputs": [
    {
     "name": "stdout",
     "output_type": "stream",
     "text": [
      "Reject the null hypothesis\n"
     ]
    }
   ],
   "source": [
    "if pvalue<=0.05:\n",
    "    print('Reject the null hypothesis')\n",
    "else:\n",
    "    print('Fail to reject the null hypothesis')"
   ]
  },
  {
   "cell_type": "markdown",
   "id": "1f29e762",
   "metadata": {},
   "source": [
    "##Conclusion: Result is reject the null hypothesis, so Male-Female buyer rations are not similar across the region.i.e. there is dependency of regions on male female rations"
   ]
  },
  {
   "attachments": {},
   "cell_type": "markdown",
   "id": "d555b606",
   "metadata": {},
   "source": [
    "# Qn-4 Problem \n",
    "TeleCall uses 4 centers around the globe to process customer order forms. They audit a certain %  of the customer order forms. Any error in order form renders it defective and has to be reworked before processing.  The manager wants to check whether the defective %  varies by centre. Please analyze the data at 5% significance level and help the manager draw appropriate inferences\n",
    "\n",
    "Minitab File: CustomerOrderForm.mtw"
   ]
  },
  {
   "cell_type": "code",
   "execution_count": 155,
   "id": "110b84e6",
   "metadata": {},
   "outputs": [],
   "source": [
    "#Define the Null hypothesis and alternate hypothesis:\n",
    "#Ho=The defective %  varies by centre.\n",
    "#Ha=The defective % do not varies by center."
   ]
  },
  {
   "cell_type": "code",
   "execution_count": 132,
   "id": "db1c7ba8",
   "metadata": {},
   "outputs": [
    {
     "data": {
      "text/html": [
       "<div>\n",
       "<style scoped>\n",
       "    .dataframe tbody tr th:only-of-type {\n",
       "        vertical-align: middle;\n",
       "    }\n",
       "\n",
       "    .dataframe tbody tr th {\n",
       "        vertical-align: top;\n",
       "    }\n",
       "\n",
       "    .dataframe thead th {\n",
       "        text-align: right;\n",
       "    }\n",
       "</style>\n",
       "<table border=\"1\" class=\"dataframe\">\n",
       "  <thead>\n",
       "    <tr style=\"text-align: right;\">\n",
       "      <th></th>\n",
       "      <th>Phillippines</th>\n",
       "      <th>Indonesia</th>\n",
       "      <th>Malta</th>\n",
       "      <th>India</th>\n",
       "    </tr>\n",
       "  </thead>\n",
       "  <tbody>\n",
       "    <tr>\n",
       "      <th>0</th>\n",
       "      <td>Error Free</td>\n",
       "      <td>Error Free</td>\n",
       "      <td>Defective</td>\n",
       "      <td>Error Free</td>\n",
       "    </tr>\n",
       "    <tr>\n",
       "      <th>1</th>\n",
       "      <td>Error Free</td>\n",
       "      <td>Error Free</td>\n",
       "      <td>Error Free</td>\n",
       "      <td>Defective</td>\n",
       "    </tr>\n",
       "    <tr>\n",
       "      <th>2</th>\n",
       "      <td>Error Free</td>\n",
       "      <td>Defective</td>\n",
       "      <td>Defective</td>\n",
       "      <td>Error Free</td>\n",
       "    </tr>\n",
       "    <tr>\n",
       "      <th>3</th>\n",
       "      <td>Error Free</td>\n",
       "      <td>Error Free</td>\n",
       "      <td>Error Free</td>\n",
       "      <td>Error Free</td>\n",
       "    </tr>\n",
       "    <tr>\n",
       "      <th>4</th>\n",
       "      <td>Error Free</td>\n",
       "      <td>Error Free</td>\n",
       "      <td>Defective</td>\n",
       "      <td>Error Free</td>\n",
       "    </tr>\n",
       "  </tbody>\n",
       "</table>\n",
       "</div>"
      ],
      "text/plain": [
       "  Phillippines   Indonesia       Malta       India\n",
       "0   Error Free  Error Free   Defective  Error Free\n",
       "1   Error Free  Error Free  Error Free   Defective\n",
       "2   Error Free   Defective   Defective  Error Free\n",
       "3   Error Free  Error Free  Error Free  Error Free\n",
       "4   Error Free  Error Free   Defective  Error Free"
      ]
     },
     "execution_count": 132,
     "metadata": {},
     "output_type": "execute_result"
    }
   ],
   "source": [
    "#import the dataset\n",
    "center=pd.read_csv('Costomer+OrderForm.csv')\n",
    "center.head()"
   ]
  },
  {
   "cell_type": "code",
   "execution_count": 133,
   "id": "df267c5c",
   "metadata": {},
   "outputs": [
    {
     "data": {
      "text/html": [
       "<div>\n",
       "<style scoped>\n",
       "    .dataframe tbody tr th:only-of-type {\n",
       "        vertical-align: middle;\n",
       "    }\n",
       "\n",
       "    .dataframe tbody tr th {\n",
       "        vertical-align: top;\n",
       "    }\n",
       "\n",
       "    .dataframe thead th {\n",
       "        text-align: right;\n",
       "    }\n",
       "</style>\n",
       "<table border=\"1\" class=\"dataframe\">\n",
       "  <thead>\n",
       "    <tr style=\"text-align: right;\">\n",
       "      <th></th>\n",
       "      <th>Phillippines</th>\n",
       "      <th>Indonesia</th>\n",
       "      <th>Malta</th>\n",
       "      <th>India</th>\n",
       "    </tr>\n",
       "  </thead>\n",
       "  <tbody>\n",
       "    <tr>\n",
       "      <th>count</th>\n",
       "      <td>300</td>\n",
       "      <td>300</td>\n",
       "      <td>300</td>\n",
       "      <td>300</td>\n",
       "    </tr>\n",
       "    <tr>\n",
       "      <th>unique</th>\n",
       "      <td>2</td>\n",
       "      <td>2</td>\n",
       "      <td>2</td>\n",
       "      <td>2</td>\n",
       "    </tr>\n",
       "    <tr>\n",
       "      <th>top</th>\n",
       "      <td>Error Free</td>\n",
       "      <td>Error Free</td>\n",
       "      <td>Error Free</td>\n",
       "      <td>Error Free</td>\n",
       "    </tr>\n",
       "    <tr>\n",
       "      <th>freq</th>\n",
       "      <td>271</td>\n",
       "      <td>267</td>\n",
       "      <td>269</td>\n",
       "      <td>280</td>\n",
       "    </tr>\n",
       "  </tbody>\n",
       "</table>\n",
       "</div>"
      ],
      "text/plain": [
       "       Phillippines   Indonesia       Malta       India\n",
       "count           300         300         300         300\n",
       "unique            2           2           2           2\n",
       "top      Error Free  Error Free  Error Free  Error Free\n",
       "freq            271         267         269         280"
      ]
     },
     "execution_count": 133,
     "metadata": {},
     "output_type": "execute_result"
    }
   ],
   "source": [
    "#Descriptive statistics:\n",
    "center.describe()"
   ]
  },
  {
   "cell_type": "code",
   "execution_count": 134,
   "id": "5ef1b49b",
   "metadata": {},
   "outputs": [
    {
     "data": {
      "text/plain": [
       "(300, 4)"
      ]
     },
     "execution_count": 134,
     "metadata": {},
     "output_type": "execute_result"
    }
   ],
   "source": [
    "#check the size of data:\n",
    "center.shape"
   ]
  },
  {
   "cell_type": "code",
   "execution_count": 135,
   "id": "0e8be8be",
   "metadata": {},
   "outputs": [
    {
     "name": "stdout",
     "output_type": "stream",
     "text": [
      "<class 'pandas.core.frame.DataFrame'>\n",
      "RangeIndex: 300 entries, 0 to 299\n",
      "Data columns (total 4 columns):\n",
      " #   Column        Non-Null Count  Dtype \n",
      "---  ------        --------------  ----- \n",
      " 0   Phillippines  300 non-null    object\n",
      " 1   Indonesia     300 non-null    object\n",
      " 2   Malta         300 non-null    object\n",
      " 3   India         300 non-null    object\n",
      "dtypes: object(4)\n",
      "memory usage: 9.5+ KB\n"
     ]
    }
   ],
   "source": [
    "#check all data type:\n",
    "center.info()"
   ]
  },
  {
   "cell_type": "code",
   "execution_count": 136,
   "id": "ece2a6c7",
   "metadata": {},
   "outputs": [
    {
     "data": {
      "text/plain": [
       "Phillippines    0\n",
       "Indonesia       0\n",
       "Malta           0\n",
       "India           0\n",
       "dtype: int64"
      ]
     },
     "execution_count": 136,
     "metadata": {},
     "output_type": "execute_result"
    }
   ],
   "source": [
    "#check any null value:\n",
    "center.isna().sum()"
   ]
  },
  {
   "cell_type": "code",
   "execution_count": 137,
   "id": "7c0980b0",
   "metadata": {},
   "outputs": [
    {
     "name": "stdout",
     "output_type": "stream",
     "text": [
      "Error Free    271\n",
      "Defective      29\n",
      "Name: Phillippines, dtype: int64 \n",
      " Error Free    267\n",
      "Defective      33\n",
      "Name: Indonesia, dtype: int64 \n",
      " Error Free    269\n",
      "Defective      31\n",
      "Name: Malta, dtype: int64 \n",
      " Error Free    280\n",
      "Defective      20\n",
      "Name: India, dtype: int64\n"
     ]
    }
   ],
   "source": [
    "#Calculate the Defective and error free values:\n",
    "print(center['Phillippines'].value_counts(),'\\n',center['Indonesia'].value_counts(),'\\n',center['Malta'].value_counts(),'\\n',center['India'].value_counts())"
   ]
  },
  {
   "cell_type": "code",
   "execution_count": 138,
   "id": "b795f82b",
   "metadata": {},
   "outputs": [
    {
     "data": {
      "text/plain": [
       "[[271, 267, 269, 280], [29, 33, 31, 20]]"
      ]
     },
     "execution_count": 138,
     "metadata": {},
     "output_type": "execute_result"
    }
   ],
   "source": [
    "#Create a Tabel:\n",
    "contengency_table=[[271,267,269,280],[29,33,31,20]]\n",
    "contengency_table"
   ]
  },
  {
   "cell_type": "code",
   "execution_count": 146,
   "id": "7be497cc",
   "metadata": {},
   "outputs": [
    {
     "name": "stdout",
     "output_type": "stream",
     "text": [
      "stats= 3.858960685820355 \n",
      " p= 0.2771020991233135 \n",
      " dof= 3 \n",
      " expected_value= [[271.75 271.75 271.75 271.75]\n",
      " [ 28.25  28.25  28.25  28.25]]\n"
     ]
    }
   ],
   "source": [
    "#Calculating Expected Values for Observed data:\n",
    "stats,p,dof,exp_value=chi2_contingency(contengency_table)\n",
    "print('stats=',stats,\"\\n\",'p=',p,\"\\n\",'dof=',dof,\"\\n\",'expected_value=',exp_value)"
   ]
  },
  {
   "cell_type": "code",
   "execution_count": 149,
   "id": "e5d36c94",
   "metadata": {},
   "outputs": [
    {
     "name": "stdout",
     "output_type": "stream",
     "text": [
      "observed_value= [271 267 269 280  29  33  31  20] \n",
      " expected_value= [271.75 271.75 271.75 271.75  28.25  28.25  28.25  28.25]\n"
     ]
    }
   ],
   "source": [
    "#Defining Expected values and observed values:\n",
    "observed_value=np.array([271,267,269,280,29,33,31,20])\n",
    "expected_value=np.array([271.75,271.75,271.75,271.75,28.25,28.25,28.25,28.25])\n",
    "print('observed_value=',observed_value,\"\\n\",'expected_value=',expected_value)"
   ]
  },
  {
   "cell_type": "code",
   "execution_count": 153,
   "id": "e9ceca49",
   "metadata": {},
   "outputs": [
    {
     "name": "stdout",
     "output_type": "stream",
     "text": [
      "statistic= 3.858960685820355 \n",
      " pvalue= 0.4254298144535761\n"
     ]
    }
   ],
   "source": [
    "#Compare Evidences with Hypothesis using t-statictic:\n",
    "statistic,pvalue=chisquare(observed_value, expected_value,ddof=3)\n",
    "print('statistic=',statistic,\"\\n\",'pvalue=',pvalue)"
   ]
  },
  {
   "cell_type": "code",
   "execution_count": 154,
   "id": "f437220c",
   "metadata": {},
   "outputs": [
    {
     "name": "stdout",
     "output_type": "stream",
     "text": [
      "Fail to reject the null hypothesis\n"
     ]
    }
   ],
   "source": [
    "if pvalue<=0.05:\n",
    "    print('Reject the null hypothesis')\n",
    "else:\n",
    "    print('Fail to reject the null hypothesis')"
   ]
  },
  {
   "cell_type": "markdown",
   "id": "7b619db0",
   "metadata": {},
   "source": [
    "# Conclusion: Fail to reject the null hypothesis, So the defective %  varies by centre."
   ]
  },
  {
   "cell_type": "code",
   "execution_count": null,
   "id": "f2e5fde1",
   "metadata": {},
   "outputs": [],
   "source": []
  }
 ],
 "metadata": {
  "kernelspec": {
   "display_name": "Python 3 (ipykernel)",
   "language": "python",
   "name": "python3"
  },
  "language_info": {
   "codemirror_mode": {
    "name": "ipython",
    "version": 3
   },
   "file_extension": ".py",
   "mimetype": "text/x-python",
   "name": "python",
   "nbconvert_exporter": "python",
   "pygments_lexer": "ipython3",
   "version": "3.9.13"
  }
 },
 "nbformat": 4,
 "nbformat_minor": 5
}
